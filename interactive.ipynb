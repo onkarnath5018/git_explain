{
 "cells": [
  {
   "cell_type": "code",
   "execution_count": 1,
   "id": "6e88b47e",
   "metadata": {},
   "outputs": [
    {
     "name": "stdout",
     "output_type": "stream",
     "text": [
      "Baba's divine interactive play\n",
      "All madhuram madhuram\n"
     ]
    }
   ],
   "source": [
    "print(\"Baba's divine interactive play\")\n",
    "print(\"All madhuram madhuram\")\n"
   ]
  },
  {
   "cell_type": "code",
   "execution_count": 2,
   "id": "e6f895cd",
   "metadata": {},
   "outputs": [
    {
     "name": "stdout",
     "output_type": "stream",
     "text": [
      "Line 1010\n",
      "Line 2020\n"
     ]
    }
   ],
   "source": [
    "print(\"Line 1010\")\n",
    "print(\"Line 2020\")\n"
   ]
  }
 ],
 "metadata": {
  "kernelspec": {
   "display_name": "Python 3",
   "language": "python",
   "name": "python3"
  },
  "language_info": {
   "codemirror_mode": {
    "name": "ipython",
    "version": 3
   },
   "file_extension": ".py",
   "mimetype": "text/x-python",
   "name": "python",
   "nbconvert_exporter": "python",
   "pygments_lexer": "ipython3",
   "version": "3.13.2"
  }
 },
 "nbformat": 4,
 "nbformat_minor": 5
}
