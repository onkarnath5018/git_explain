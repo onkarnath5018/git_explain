{
 "cells": [
  {
   "cell_type": "code",
   "execution_count": null,
   "id": "6e88b47e",
   "metadata": {},
   "outputs": [],
   "source": [
    "print(\"Baba's divine interactive play\")"
   ]
  },
  {
   "cell_type": "code",
   "execution_count": null,
   "id": "31e1fe52",
   "metadata": {},
   "outputs": [],
   "source": [
    "11*22"
   ]
  },
  {
   "cell_type": "code",
   "execution_count": null,
   "id": "e6f895cd",
   "metadata": {},
   "outputs": [],
   "source": [
    "print(\"Line 1\")\n",
    "print(\"Line 2\")\n"
   ]
  }
 ],
 "metadata": {
  "kernelspec": {
   "display_name": "Python 3",
   "language": "python",
   "name": "python3"
  },
  "language_info": {
   "codemirror_mode": {
    "name": "ipython",
    "version": 3
   },
   "file_extension": ".py",
   "mimetype": "text/x-python",
   "name": "python",
   "nbconvert_exporter": "python",
   "pygments_lexer": "ipython3",
   "version": "3.13.2"
  }
 },
 "nbformat": 4,
 "nbformat_minor": 5
}
