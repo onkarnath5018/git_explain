{
  "cells": [
    {
      "cell_type": "markdown",
      "metadata": {
        "id": "view-in-github",
        "colab_type": "text"
      },
      "source": [
        "<a href=\"https://colab.research.google.com/github/onkarnath5018/git_explain/blob/main/interactive.ipynb\" target=\"_parent\"><img src=\"https://colab.research.google.com/assets/colab-badge.svg\" alt=\"Open In Colab\"/></a>"
      ]
    },
    {
      "cell_type": "code",
      "execution_count": 4,
      "id": "6e88b47e",
      "metadata": {
        "id": "6e88b47e",
        "outputId": "852592fc-4733-44a8-d3b6-415d7d7f366d",
        "colab": {
          "base_uri": "https://localhost:8080/"
        }
      },
      "outputs": [
        {
          "output_type": "stream",
          "name": "stdout",
          "text": [
            "Baba's divine interactive play\n"
          ]
        }
      ],
      "source": [
        "print(\"Baba's divine interactive play\")"
      ]
    },
    {
      "cell_type": "code",
      "execution_count": 7,
      "id": "31e1fe52",
      "metadata": {
        "id": "31e1fe52",
        "outputId": "cff12c12-c81a-4872-df34-76a8d86e2aad",
        "colab": {
          "base_uri": "https://localhost:8080/"
        }
      },
      "outputs": [
        {
          "output_type": "stream",
          "name": "stdout",
          "text": [
            "In samskrit - it is called RaasLeela\n"
          ]
        }
      ],
      "source": [
        "print(\"In samskrit - it is called RaasLeela\")"
      ]
    },
    {
      "cell_type": "code",
      "execution_count": 8,
      "id": "e6f895cd",
      "metadata": {
        "id": "e6f895cd",
        "outputId": "3e013d15-0123-4b62-921d-176ec4e8f129",
        "colab": {
          "base_uri": "https://localhost:8080/"
        }
      },
      "outputs": [
        {
          "output_type": "stream",
          "name": "stdout",
          "text": [
            "Line 101\n",
            "Line 202\n"
          ]
        }
      ],
      "source": [
        "print(\"Line 101\")\n",
        "print(\"Line 202\")\n"
      ]
    }
  ],
  "metadata": {
    "kernelspec": {
      "display_name": "Python 3",
      "language": "python",
      "name": "python3"
    },
    "language_info": {
      "codemirror_mode": {
        "name": "ipython",
        "version": 3
      },
      "file_extension": ".py",
      "mimetype": "text/x-python",
      "name": "python",
      "nbconvert_exporter": "python",
      "pygments_lexer": "ipython3",
      "version": "3.13.2"
    },
    "colab": {
      "provenance": [],
      "include_colab_link": true
    }
  },
  "nbformat": 4,
  "nbformat_minor": 5
}